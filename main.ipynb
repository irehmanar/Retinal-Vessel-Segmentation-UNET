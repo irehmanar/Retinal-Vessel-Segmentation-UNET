{
  "nbformat": 4,
  "nbformat_minor": 0,
  "metadata": {
    "colab": {
      "provenance": [],
      "gpuType": "T4"
    },
    "kernelspec": {
      "name": "python3",
      "display_name": "Python 3"
    },
    "language_info": {
      "name": "python"
    },
    "accelerator": "GPU"
  },
  "cells": [
    {
      "cell_type": "code",
      "source": [
        "from google.colab import drive\n",
        "drive.mount('/content/drive')\n"
      ],
      "metadata": {
        "colab": {
          "base_uri": "https://localhost:8080/"
        },
        "id": "iA0NY6dUpop-",
        "outputId": "03660d19-3269-4e44-b2d6-70f2ef6662f8"
      },
      "execution_count": 1,
      "outputs": [
        {
          "output_type": "stream",
          "name": "stdout",
          "text": [
            "Mounted at /content/drive\n"
          ]
        }
      ]
    },
    {
      "cell_type": "code",
      "source": [
        "folder_path = '/content/drive/MyDrive/a'\n"
      ],
      "metadata": {
        "id": "8leN6gJcpoky"
      },
      "execution_count": 2,
      "outputs": []
    },
    {
      "cell_type": "code",
      "execution_count": 3,
      "metadata": {
        "colab": {
          "base_uri": "https://localhost:8080/"
        },
        "id": "UxsS77wwpk81",
        "outputId": "e9c5d6b2-4d31-49cb-e6c5-931ac2ee5017"
      },
      "outputs": [
        {
          "output_type": "stream",
          "name": "stdout",
          "text": [
            "Dataset Size:\n",
            "Train: 80 - Valid: 20\n",
            "\n",
            "/usr/local/lib/python3.11/dist-packages/torch/optim/lr_scheduler.py:62: UserWarning: The verbose parameter is deprecated. Please use get_last_lr() to access the learning rate.\n",
            "  warnings.warn(\n",
            "Valid loss improved from inf to 1.3393. Saving checkpoint: files/checkpoint.pth\n",
            "Epoch: 01 | Epoch Time: 0m 44s\n",
            "\tTrain Loss: 1.166\n",
            "\t Val. Loss: 1.339\n",
            "\n",
            "Valid loss improved from 1.3393 to 0.9890. Saving checkpoint: files/checkpoint.pth\n",
            "Epoch: 02 | Epoch Time: 0m 34s\n",
            "\tTrain Loss: 0.981\n",
            "\t Val. Loss: 0.989\n",
            "\n",
            "Valid loss improved from 0.9890 to 0.8875. Saving checkpoint: files/checkpoint.pth\n",
            "Epoch: 03 | Epoch Time: 0m 35s\n",
            "\tTrain Loss: 0.921\n",
            "\t Val. Loss: 0.887\n",
            "\n",
            "Valid loss improved from 0.8875 to 0.8546. Saving checkpoint: files/checkpoint.pth\n",
            "Epoch: 04 | Epoch Time: 0m 35s\n",
            "\tTrain Loss: 0.875\n",
            "\t Val. Loss: 0.855\n",
            "\n",
            "Valid loss improved from 0.8546 to 0.8171. Saving checkpoint: files/checkpoint.pth\n",
            "Epoch: 05 | Epoch Time: 0m 35s\n",
            "\tTrain Loss: 0.837\n",
            "\t Val. Loss: 0.817\n",
            "\n",
            "Valid loss improved from 0.8171 to 0.7762. Saving checkpoint: files/checkpoint.pth\n",
            "Epoch: 06 | Epoch Time: 0m 35s\n",
            "\tTrain Loss: 0.799\n",
            "\t Val. Loss: 0.776\n",
            "\n",
            "Valid loss improved from 0.7762 to 0.7416. Saving checkpoint: files/checkpoint.pth\n",
            "Epoch: 07 | Epoch Time: 0m 35s\n",
            "\tTrain Loss: 0.762\n",
            "\t Val. Loss: 0.742\n",
            "\n",
            "Valid loss improved from 0.7416 to 0.7136. Saving checkpoint: files/checkpoint.pth\n",
            "Epoch: 08 | Epoch Time: 0m 35s\n",
            "\tTrain Loss: 0.726\n",
            "\t Val. Loss: 0.714\n",
            "\n",
            "Valid loss improved from 0.7136 to 0.6792. Saving checkpoint: files/checkpoint.pth\n",
            "Epoch: 09 | Epoch Time: 0m 35s\n",
            "\tTrain Loss: 0.696\n",
            "\t Val. Loss: 0.679\n",
            "\n",
            "Valid loss improved from 0.6792 to 0.6560. Saving checkpoint: files/checkpoint.pth\n",
            "Epoch: 10 | Epoch Time: 0m 35s\n",
            "\tTrain Loss: 0.665\n",
            "\t Val. Loss: 0.656\n",
            "\n"
          ]
        }
      ],
      "source": [
        "!python3 /content/drive/MyDrive/a/train.py\n"
      ]
    },
    {
      "cell_type": "code",
      "source": [
        "!python3 /content/drive/MyDrive/a/test.py\n"
      ],
      "metadata": {
        "colab": {
          "base_uri": "https://localhost:8080/"
        },
        "id": "tXWasZI0pvdj",
        "outputId": "701c2176-e01f-4fef-c9f7-a3155e0e3301"
      },
      "execution_count": 4,
      "outputs": [
        {
          "output_type": "stream",
          "name": "stdout",
          "text": [
            "/content/drive/MyDrive/a/test.py:63: FutureWarning: You are using `torch.load` with `weights_only=False` (the current default value), which uses the default pickle module implicitly. It is possible to construct malicious pickle data which will execute arbitrary code during unpickling (See https://github.com/pytorch/pytorch/blob/main/SECURITY.md#untrusted-models for more details). In a future release, the default value for `weights_only` will be flipped to `True`. This limits the functions that could be executed during unpickling. Arbitrary objects will no longer be allowed to be loaded via this mode unless they are explicitly allowlisted by the user via `torch.serialization.add_safe_globals`. We recommend you start setting `weights_only=True` for any use case where you don't have full control of the loaded file. Please open an issue on GitHub for any issues related to this experimental feature.\n",
            "  model.load_state_dict(torch.load(checkpoint_path, map_location=device))\n",
            "  0% 0/20 [00:00<?, ?it/s][ WARN:0@3.833] global loadsave.cpp:848 imwrite_ Unsupported depth image for selected encoder is fallbacked to CV_8U.\n",
            "100% 20/20 [00:07<00:00,  2.69it/s]\n",
            "Jaccard: 0.6594 - F1: 0.7945 - Recall: 0.8074 - Precision: 0.7897 - Acc: 0.9638\n",
            "FPS:  32.05563856333281\n"
          ]
        }
      ]
    },
    {
      "cell_type": "code",
      "source": [],
      "metadata": {
        "id": "ke6mA8-LvAnW"
      },
      "execution_count": null,
      "outputs": []
    }
  ]
}